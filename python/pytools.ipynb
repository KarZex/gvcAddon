{
 "cells": [
  {
   "cell_type": "code",
   "execution_count": null,
   "id": "df0fca7a",
   "metadata": {},
   "outputs": [
    {
     "name": "stdout",
     "output_type": "stream",
     "text": [
      "X:8.0,Y:0.0\n",
      "X:3.061,Y:7.391\n",
      "X:-5.657,Y:5.657\n",
      "X:-7.391,Y:-3.061\n",
      "X:-0.0,Y:-8.0\n",
      "X:7.391,Y:-3.061\n",
      "X:5.657,Y:5.657\n",
      "X:-3.061,Y:7.391\n"
     ]
    }
   ],
   "source": [
    "import numpy as npy\n",
    "n = 8\n",
    "z = npy.pow(npy.e,1j*(2*npy.pi/n))\n",
    "r = 8 * npy.pow( npy.e,1j * npy.pi/8 )\n",
    "for i in range(n):\n",
    "    s = r * pow(z,i)\n",
    "    print(\"X:{0},Y:{1}\".format(npy.round(s.real,3),npy.round(s.imag,3)))"
   ]
  }
 ],
 "metadata": {
  "kernelspec": {
   "display_name": "Python 3",
   "language": "python",
   "name": "python3"
  },
  "language_info": {
   "codemirror_mode": {
    "name": "ipython",
    "version": 3
   },
   "file_extension": ".py",
   "mimetype": "text/x-python",
   "name": "python",
   "nbconvert_exporter": "python",
   "pygments_lexer": "ipython3",
   "version": "3.13.2"
  }
 },
 "nbformat": 4,
 "nbformat_minor": 5
}
